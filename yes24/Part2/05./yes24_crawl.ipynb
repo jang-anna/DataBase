{
 "cells": [
  {
   "cell_type": "markdown",
   "metadata": {},
   "source": [
    "### yes24크롤링"
   ]
  },
  {
   "cell_type": "code",
   "execution_count": 3,
   "metadata": {},
   "outputs": [
    {
     "data": {
      "text/plain": [
       "'/Users/yenadas/.wdm/drivers/chromedriver/mac64/123.0.6312.122/chromedriver-mac-x64/chromedriver'"
      ]
     },
     "execution_count": 3,
     "metadata": {},
     "output_type": "execute_result"
    }
   ],
   "source": [
    "# web driver -manaage 라이브러리 불러오기\n",
    "from webdriver_manager.chrome  import ChromeDriverManager\n",
    "ChromeDriverManager().install()"
   ]
  },
  {
   "cell_type": "code",
   "execution_count": null,
   "metadata": {},
   "outputs": [],
   "source": [
    "from selenium import webdriver\n",
    "browser = webdriver.Chrome()\n",
    "url = 'https://google.com'\n",
    "browser.get(url)\n",
    "\n",
    "from selenium.webdriver.common.by import By\n",
    "\n",
    "browser.find_element(By.CLASS_NAME, 'uU7dJb').text"
   ]
  },
  {
   "cell_type": "markdown",
   "metadata": {},
   "source": []
  },
  {
   "cell_type": "code",
   "execution_count": 6,
   "metadata": {},
   "outputs": [
    {
     "data": {
      "text/plain": [
       "'https://www.yes24.com/Product/Goods/126010792'"
      ]
     },
     "execution_count": 6,
     "metadata": {},
     "output_type": "execute_result"
    }
   ],
   "source": [
    "from selenium import webdriver\n",
    "\n",
    "from selenium.webdriver.common.by import By\n",
    "\n",
    "browser = webdriver.Chrome()\n",
    "\n",
    "url = 'https://www.yes24.com/Product/Category/BestSeller?CategoryNumber=001&sumgb=06'\n",
    "browser.get(url)\n",
    "\n",
    "#1페이지의 링크 데이터 모두 수집\n",
    "\n",
    "### 한 개의 베스트 셀러 링크 수집\n",
    "browser.find_element(By.CLASS_NAME, 'gd_name').get_attribute('href')\n",
    "\n",
    "### 1페이지 전체의 링크 데이터\n",
    "#browser.find_element(By.CLASS_NAME, 'gd_name').get_attribute('href') #element:요소\n",
    "browser.find_element(By.CLASS_NAME, 'gd_name').get_attribute('href') #elements:리스트\n"
   ]
  },
  {
   "cell_type": "code",
   "execution_count": null,
   "metadata": {},
   "outputs": [],
   "source": [
    "# 3페이지까지의 링크 데이터 전부 수집\n",
    "from selenium.webdriver.common.by import By\n",
    "\n",
    "browser = webdriver.Chrome()\n",
    "import time\n",
    "\n",
    "link_list= []\n",
    "for i in range(1,4):\n",
    "    print(\"*\" * 10, f\"현재 {i} 페이지 수집 중 입니다.\",\"*\" * 10)\n",
    "    url = f'https://www.yes24.com/Product/Category/BestSeller?categoryNumber=001&pageNumber={i}&pageSize=24'\n",
    "    browser.get(url)\n",
    "    \n",
    "    browser.find_element(By.CLASS_NAME,'gd_name').get_attribute('href')\n",
    "    ### 1페이지 전체의 링크 데이터                                                          \n",
    "    #browser.find_elements(By.CLASS_NAME, 'gd_name') #element: 요소\n",
    "    datas = browser.find_elements(By.CLASS_NAME, 'gd_name') #element: 리스트\n",
    "    \n",
    "    for i in datas:\n",
    "\n",
    "        link = i.get_attribute('href')\n",
    "        link_list.append(link)\n",
    "    time.sleep(3)\n",
    "print(link_list)"
   ]
  },
  {
   "cell_type": "code",
   "execution_count": 12,
   "metadata": {},
   "outputs": [
    {
     "data": {
      "text/plain": [
       "0"
      ]
     },
     "execution_count": 12,
     "metadata": {},
     "output_type": "execute_result"
    }
   ],
   "source": [
    "len(link_list)"
   ]
  },
  {
   "cell_type": "code",
   "execution_count": null,
   "metadata": {},
   "outputs": [],
   "source": [
    "#for link in link_list:\n",
    "#   #상세 페이지로 이동\n",
    "#  borwser.get(link)\n",
    "\n",
    "browser.get(link_list[0])\n",
    "\n",
    "title = browser.find_element(By.CLASS_NAME, 'gd_name').text\n",
    "author = browser.find_element(By.CLASS_NAME, 'gd_auth').text\n",
    "publusher = browser.find_element(By.CLASS_NAME, 'gd_pub').text\n",
    "publishing = browser.find_element(By.CLASS_NAME, 'gd_date').text\n",
    "rating = browser.find_element(By.CLASS_NAME, 'yes_b').text\n",
    "reviews = browser.find_element(By.CLASS_NAME, 'txC_blue').text\n",
    "sales = browser.find_element(By.CLASS_NAME, 'gd_sellNum').text.split(\" \")[2]\n",
    "price = browser.find_element(By.CLASS_NAME, 'yes_m').text[:-1]\n",
    "ranking = browser.find_element(By.CLASS_NAME, 'gd_best').text.split[\" | \"][0]\n",
    "ranking_weeks = browser.find_element(By.CLASS_NAME, 'gd_best').text.split[\" | \"][1]"
   ]
  },
  {
   "cell_type": "code",
   "execution_count": 16,
   "metadata": {},
   "outputs": [
    {
     "data": {
      "text/plain": [
       "'932,772'"
      ]
     },
     "execution_count": 16,
     "metadata": {},
     "output_type": "execute_result"
    }
   ],
   "source": [
    "text = \"'| 판매지수 932,772 판매지수란?'\"\n",
    "\n",
    "text.split(\" \")[2]"
   ]
  },
  {
   "cell_type": "code",
   "execution_count": 18,
   "metadata": {},
   "outputs": [
    {
     "data": {
      "text/plain": [
       "\"'베스트 국내도서 1위\""
      ]
     },
     "execution_count": 18,
     "metadata": {},
     "output_type": "execute_result"
    }
   ],
   "source": [
    "text = \"'베스트 국내도서 1위 | 국내도서 1위 5주'\"\n",
    "\n",
    "text.split(\" | \")[0]"
   ]
  }
 ],
 "metadata": {
  "kernelspec": {
   "display_name": ".venv",
   "language": "python",
   "name": "python3"
  },
  "language_info": {
   "codemirror_mode": {
    "name": "ipython",
    "version": 3
   },
   "file_extension": ".py",
   "mimetype": "text/x-python",
   "name": "python",
   "nbconvert_exporter": "python",
   "pygments_lexer": "ipython3",
   "version": "3.12.3"
  }
 },
 "nbformat": 4,
 "nbformat_minor": 2
}
